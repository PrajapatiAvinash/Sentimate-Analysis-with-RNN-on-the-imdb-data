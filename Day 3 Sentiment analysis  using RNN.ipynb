{
 "cells": [
  {
   "cell_type": "code",
   "execution_count": 1,
   "id": "9fcab30e-fdc7-4217-801a-07f1c97225f1",
   "metadata": {},
   "outputs": [],
   "source": [
    "import numpy as np\n",
    "from tensorflow import keras"
   ]
  },
  {
   "cell_type": "code",
   "execution_count": 2,
   "id": "40ec792f-4d96-40cc-a032-f0ca0360e2f8",
   "metadata": {},
   "outputs": [],
   "source": [
    "docs =[\n",
    "    'go india',\n",
    "    'india india',\n",
    "    'hip hip hurray',\n",
    "    'jeetega bhai jeetega india jeetega',\n",
    "    'bharat mata ki jai',\n",
    "    'kohli kohli',\n",
    "    'sachin sachin',\n",
    "    'dhoni dhoni',\n",
    "    'modi ji ki jai',\n",
    "    'inquilab zindabad'\n",
    "]"
   ]
  },
  {
   "cell_type": "code",
   "execution_count": 3,
   "id": "a0ed4bf6-6f76-4e89-a110-120de099d613",
   "metadata": {},
   "outputs": [],
   "source": [
    "from tensorflow.keras.preprocessing.text import Tokenizer\n",
    "tokenizer = Tokenizer(oov_token = '<nothing>')"
   ]
  },
  {
   "cell_type": "code",
   "execution_count": 4,
   "id": "f0576c9e-9c03-4cfd-a5c7-8024b870856c",
   "metadata": {},
   "outputs": [],
   "source": [
    "tokenizer.fit_on_texts(docs)"
   ]
  },
  {
   "cell_type": "code",
   "execution_count": 5,
   "id": "aeee430e-f16c-4513-a259-bde1f8740a5c",
   "metadata": {},
   "outputs": [
    {
     "data": {
      "text/plain": [
       "{'<nothing>': 1,\n",
       " 'india': 2,\n",
       " 'jeetega': 3,\n",
       " 'hip': 4,\n",
       " 'ki': 5,\n",
       " 'jai': 6,\n",
       " 'kohli': 7,\n",
       " 'sachin': 8,\n",
       " 'dhoni': 9,\n",
       " 'go': 10,\n",
       " 'hurray': 11,\n",
       " 'bhai': 12,\n",
       " 'bharat': 13,\n",
       " 'mata': 14,\n",
       " 'modi': 15,\n",
       " 'ji': 16,\n",
       " 'inquilab': 17,\n",
       " 'zindabad': 18}"
      ]
     },
     "execution_count": 5,
     "metadata": {},
     "output_type": "execute_result"
    }
   ],
   "source": [
    "tokenizer.word_index"
   ]
  },
  {
   "cell_type": "code",
   "execution_count": 6,
   "id": "e734ed6d-9a97-40d3-91ed-d6351e32091b",
   "metadata": {},
   "outputs": [
    {
     "data": {
      "text/plain": [
       "[[10, 2],\n",
       " [2, 2],\n",
       " [4, 4, 11],\n",
       " [3, 12, 3, 2, 3],\n",
       " [13, 14, 5, 6],\n",
       " [7, 7],\n",
       " [8, 8],\n",
       " [9, 9],\n",
       " [15, 16, 5, 6],\n",
       " [17, 18]]"
      ]
     },
     "execution_count": 6,
     "metadata": {},
     "output_type": "execute_result"
    }
   ],
   "source": [
    "sequences = tokenizer.texts_to_sequences(docs)\n",
    "sequences"
   ]
  },
  {
   "cell_type": "code",
   "execution_count": 7,
   "id": "e17f2e63-3400-4f67-8ae4-9e54e7b72937",
   "metadata": {},
   "outputs": [
    {
     "data": {
      "text/plain": [
       "array([[10,  2,  0,  0,  0],\n",
       "       [ 2,  2,  0,  0,  0],\n",
       "       [ 4,  4, 11,  0,  0],\n",
       "       [ 3, 12,  3,  2,  3],\n",
       "       [13, 14,  5,  6,  0],\n",
       "       [ 7,  7,  0,  0,  0],\n",
       "       [ 8,  8,  0,  0,  0],\n",
       "       [ 9,  9,  0,  0,  0],\n",
       "       [15, 16,  5,  6,  0],\n",
       "       [17, 18,  0,  0,  0]])"
      ]
     },
     "execution_count": 7,
     "metadata": {},
     "output_type": "execute_result"
    }
   ],
   "source": [
    "from keras.utils import pad_sequences\n",
    "sequences = pad_sequences(sequences,padding = 'post')\n",
    "sequences"
   ]
  },
  {
   "cell_type": "code",
   "execution_count": 8,
   "id": "a1559e51-87cf-4c2b-877e-78c855883b3e",
   "metadata": {},
   "outputs": [],
   "source": [
    "from keras.datasets import imdb\n",
    "from keras import Sequential\n",
    "from keras.layers import Dense,SimpleRNN,Embedding,Flatten"
   ]
  },
  {
   "cell_type": "code",
   "execution_count": 9,
   "id": "380841e6-f052-446b-bfd5-d47cbd3ab274",
   "metadata": {},
   "outputs": [],
   "source": [
    "from keras import Sequential\n",
    "model1 = Sequential()\n",
    "model1.add(Embedding(17, output_dim=1))"
   ]
  },
  {
   "cell_type": "code",
   "execution_count": 10,
   "id": "1e5d0908-7f7a-41b4-8c15-fbd58943d9bc",
   "metadata": {},
   "outputs": [],
   "source": [
    "model1.compile(\n",
    "    'adam','accuracy'\n",
    ")"
   ]
  },
  {
   "cell_type": "code",
   "execution_count": 11,
   "id": "0c54bf34-f36d-4390-8d21-cd3548e42ee5",
   "metadata": {},
   "outputs": [
    {
     "name": "stdout",
     "output_type": "stream",
     "text": [
      "\u001b[1m1/1\u001b[0m \u001b[32m━━━━━━━━━━━━━━━━━━━━\u001b[0m\u001b[37m\u001b[0m \u001b[1m0s\u001b[0m 154ms/step\n"
     ]
    },
    {
     "data": {
      "text/plain": [
       "array([[[ 0.04413216],\n",
       "        [ 0.00933918],\n",
       "        [ 0.03240197],\n",
       "        [ 0.03240197],\n",
       "        [ 0.03240197]],\n",
       "\n",
       "       [[ 0.00933918],\n",
       "        [ 0.00933918],\n",
       "        [ 0.03240197],\n",
       "        [ 0.03240197],\n",
       "        [ 0.03240197]],\n",
       "\n",
       "       [[ 0.00041224],\n",
       "        [ 0.00041224],\n",
       "        [ 0.04931909],\n",
       "        [ 0.03240197],\n",
       "        [ 0.03240197]],\n",
       "\n",
       "       [[-0.03140341],\n",
       "        [ 0.02619413],\n",
       "        [-0.03140341],\n",
       "        [ 0.00933918],\n",
       "        [-0.03140341]],\n",
       "\n",
       "       [[ 0.01502601],\n",
       "        [-0.01166433],\n",
       "        [ 0.00228973],\n",
       "        [ 0.04808884],\n",
       "        [ 0.03240197]],\n",
       "\n",
       "       [[ 0.01500959],\n",
       "        [ 0.01500959],\n",
       "        [ 0.03240197],\n",
       "        [ 0.03240197],\n",
       "        [ 0.03240197]],\n",
       "\n",
       "       [[-0.04284684],\n",
       "        [-0.04284684],\n",
       "        [ 0.03240197],\n",
       "        [ 0.03240197],\n",
       "        [ 0.03240197]],\n",
       "\n",
       "       [[-0.02953764],\n",
       "        [-0.02953764],\n",
       "        [ 0.03240197],\n",
       "        [ 0.03240197],\n",
       "        [ 0.03240197]],\n",
       "\n",
       "       [[ 0.00372962],\n",
       "        [ 0.03272975],\n",
       "        [ 0.00228973],\n",
       "        [ 0.04808884],\n",
       "        [ 0.03240197]],\n",
       "\n",
       "       [[ 0.03272975],\n",
       "        [ 0.03272975],\n",
       "        [ 0.03240197],\n",
       "        [ 0.03240197],\n",
       "        [ 0.03240197]]], dtype=float32)"
      ]
     },
     "execution_count": 11,
     "metadata": {},
     "output_type": "execute_result"
    }
   ],
   "source": [
    "pred = model1.predict(sequences)\n",
    "pred"
   ]
  },
  {
   "cell_type": "code",
   "execution_count": 12,
   "id": "703805c9-a91b-47df-950d-ae5e0e1d2d3c",
   "metadata": {},
   "outputs": [],
   "source": [
    "(X_train,y_train),(X_test,y_test) = imdb.load_data()"
   ]
  },
  {
   "cell_type": "code",
   "execution_count": 13,
   "id": "fd35cbf9-c2a4-438b-ab36-7b1a04a05682",
   "metadata": {},
   "outputs": [],
   "source": [
    "from keras.utils import pad_sequences\n",
    "X_train = pad_sequences(X_train,padding = 'post',maxlen = 120)\n",
    "X_test = pad_sequences(X_test,padding = 'post',maxlen = 120)"
   ]
  },
  {
   "cell_type": "code",
   "execution_count": 14,
   "id": "ccd57ef0-d59a-4ac5-8001-d67ecb88c87d",
   "metadata": {},
   "outputs": [],
   "source": [
    "from keras.models import Sequential\n",
    "from keras.layers import Embedding\n",
    "RNN = Sequential()\n",
    "RNN.add(Embedding(250000,output_dim = 2))\n",
    "RNN.add(SimpleRNN(10,return_sequences = False))\n",
    "RNN.add(Dense(1,activation = 'sigmoid'))"
   ]
  },
  {
   "cell_type": "code",
   "execution_count": 15,
   "id": "9e0d296e-8f9a-44bb-8f8d-daacbe34a444",
   "metadata": {},
   "outputs": [],
   "source": [
    "RNN.compile(\n",
    "    loss = 'binary_crossentropy',\n",
    "    optimizer = 'adam',\n",
    "    metrics = ['accuracy']\n",
    ")"
   ]
  },
  {
   "cell_type": "code",
   "execution_count": 16,
   "id": "10bb61fb-17a0-4c8c-be0b-a74e8351783c",
   "metadata": {},
   "outputs": [
    {
     "name": "stdout",
     "output_type": "stream",
     "text": [
      "Epoch 1/5\n",
      "\u001b[1m782/782\u001b[0m \u001b[32m━━━━━━━━━━━━━━━━━━━━\u001b[0m\u001b[37m\u001b[0m \u001b[1m34s\u001b[0m 39ms/step - accuracy: 0.5557 - loss: 0.6764 - val_accuracy: 0.6852 - val_loss: 0.6096\n",
      "Epoch 2/5\n",
      "\u001b[1m782/782\u001b[0m \u001b[32m━━━━━━━━━━━━━━━━━━━━\u001b[0m\u001b[37m\u001b[0m \u001b[1m31s\u001b[0m 39ms/step - accuracy: 0.7740 - loss: 0.5012 - val_accuracy: 0.8188 - val_loss: 0.4106\n",
      "Epoch 3/5\n",
      "\u001b[1m782/782\u001b[0m \u001b[32m━━━━━━━━━━━━━━━━━━━━\u001b[0m\u001b[37m\u001b[0m \u001b[1m28s\u001b[0m 36ms/step - accuracy: 0.8748 - loss: 0.3385 - val_accuracy: 0.8200 - val_loss: 0.4291\n",
      "Epoch 4/5\n",
      "\u001b[1m782/782\u001b[0m \u001b[32m━━━━━━━━━━━━━━━━━━━━\u001b[0m\u001b[37m\u001b[0m \u001b[1m29s\u001b[0m 37ms/step - accuracy: 0.9289 - loss: 0.2088 - val_accuracy: 0.8403 - val_loss: 0.3815\n",
      "Epoch 5/5\n",
      "\u001b[1m782/782\u001b[0m \u001b[32m━━━━━━━━━━━━━━━━━━━━\u001b[0m\u001b[37m\u001b[0m \u001b[1m29s\u001b[0m 37ms/step - accuracy: 0.9485 - loss: 0.1564 - val_accuracy: 0.8201 - val_loss: 0.4973\n"
     ]
    },
    {
     "data": {
      "text/plain": [
       "<keras.src.callbacks.history.History at 0x17cab196e50>"
      ]
     },
     "execution_count": 16,
     "metadata": {},
     "output_type": "execute_result"
    }
   ],
   "source": [
    "RNN.fit(X_train,y_train,epochs = 5, validation_data = (X_test,y_test))"
   ]
  },
  {
   "cell_type": "code",
   "execution_count": 17,
   "id": "c3728a4c-6171-495e-aa62-a083ef8c733b",
   "metadata": {},
   "outputs": [
    {
     "name": "stdout",
     "output_type": "stream",
     "text": [
      "\u001b[1m782/782\u001b[0m \u001b[32m━━━━━━━━━━━━━━━━━━━━\u001b[0m\u001b[37m\u001b[0m \u001b[1m6s\u001b[0m 7ms/step\n"
     ]
    }
   ],
   "source": [
    "y_pred = RNN.predict(X_test)"
   ]
  },
  {
   "cell_type": "code",
   "execution_count": 26,
   "id": "424210e3-c798-49ad-ab82-4a2cb12059e3",
   "metadata": {},
   "outputs": [
    {
     "name": "stdout",
     "output_type": "stream",
     "text": [
      "Actual Result :  1\n",
      "Predicted Result :  [0.9939792]\n"
     ]
    }
   ],
   "source": [
    "print(\"Actual Result : \" , y_test[288])\n",
    "print(\"Predicted Result : \", y_pred[288])"
   ]
  },
  {
   "cell_type": "code",
   "execution_count": 27,
   "id": "2ec0efcd-28b3-4e9a-bcb5-3b751ddcc621",
   "metadata": {},
   "outputs": [
    {
     "name": "stdout",
     "output_type": "stream",
     "text": [
      "Actual Result :  0\n",
      "Predicted Result :  [0.01814041]\n"
     ]
    }
   ],
   "source": [
    "print(\"Actual Result : \" , y_test[0])\n",
    "print(\"Predicted Result : \", y_pred[0])"
   ]
  }
 ],
 "metadata": {
  "kernelspec": {
   "display_name": "Python 3 (ipykernel)",
   "language": "python",
   "name": "python3"
  },
  "language_info": {
   "codemirror_mode": {
    "name": "ipython",
    "version": 3
   },
   "file_extension": ".py",
   "mimetype": "text/x-python",
   "name": "python",
   "nbconvert_exporter": "python",
   "pygments_lexer": "ipython3",
   "version": "3.11.0"
  }
 },
 "nbformat": 4,
 "nbformat_minor": 5
}
